{
 "cells": [
  {
   "cell_type": "code",
   "execution_count": null,
   "metadata": {
    "collapsed": true
   },
   "outputs": [],
   "source": [
    "Objective of project:\n",
    "Create a tool which other team members can use to analyse trends in Government Procurement, based on 2015 data and future data.\n",
    "Identify high value add procurement opportunities which currently go to foreign companies, but could have gone to local companies.\n",
    "Identify insights behind trends in government procurement (e.g. which month of the year do most procurements take place?)\n",
    "A. Visualisation of data\n",
    "Total number of agencies involved\n",
    "The number of procurements conducted by each agency in 2015\n",
    "The total awarded amount by each agency in 2015\n",
    "The average value each procurement by each agency in 2015\n",
    "Top procurements by value in 2015\n",
    "List out all procurements by specified agency in 2015\n",
    "B. Cleaning of Dataset\n",
    "Remove supposedly erroneous entries (e.g. expensive catering by DSTA?)\n",
    "C. Analysis\n",
    "Differentiate amongst different types of procurements (e.g. services, products, value add)\n",
    "a. Clustering\n",
    "Differentiate amongst different types of suppliers (e.g. local companies, foreign incorporated companies, local subsidiaries of foreign companies)\n",
    "a. Clustering\n",
    "Which are the top 5 agencies which conduct high value add procurements"
   ]
  },
  {
   "cell_type": "markdown",
   "metadata": {},
   "source": [
    "# Initialisation"
   ]
  },
  {
   "cell_type": "code",
   "execution_count": 1,
   "metadata": {
    "collapsed": true
   },
   "outputs": [],
   "source": [
    "import pandas as pd\n",
    "\n",
    "import numpy as np\n",
    "import csv\n",
    "from sklearn.naive_bayes import MultinomialNB\n",
    "from sklearn.naive_bayes import BernoulliNB\n",
    "\n",
    "#Visualisation Libraries\n",
    "import seaborn as sns\n",
    "import matplotlib.pyplot as plt\n",
    "plt.rcParams['figure.figsize'] = (8, 6)\n",
    "plt.rcParams['font.size'] = 14\n",
    "pd.set_option('display.max_columns', 5)\n",
    "\n",
    "%matplotlib inline\n",
    "\n",
    "# increase default figure and font sizes for easier viewing\n",
    "#plt.rcParams['figure.figsize'] = (8, 6)\n",
    "#plt.rcParams['font.size'] = 14\n",
    "\n",
    "#Open CSV file containing - Singapore Government Procurement Record for 2015\n",
    "#Source: data.gov.sg\n",
    "filename = '/Users/xuanrong/mystuff/git/GovtProcurement/government-procurement/government-procurement-via-gebiz-2015.csv'\n",
    "cols = ['Tender Number', 'Agency', 'Tender Description', 'Award Date', 'Tender Detail Status', 'Supplier Name', 'Total Awarded Amount']\n",
    "gp_original = pd.read_csv(filename, header=0, names=cols)\n",
    "\n",
    "#Remove all rows where there was \"no awards\"\n",
    "gp_original = gp_original[gp_original['Tender Detail Status'] != 'Awarded to No Suppliers']\n",
    "\n",
    "million_converter = lambda x: x / 1000000"
   ]
  },
  {
   "cell_type": "code",
   "execution_count": null,
   "metadata": {
    "collapsed": true
   },
   "outputs": [],
   "source": [
    "# Add new column indicating the parent agency\n",
    "\n",
    "filename_2 = '/Users/xuanrong/mystuff/git/GovtProcurement/Agency_List.csv'\n",
    "cols_2 = ['Agency','Parent Agency']\n",
    "gp_parent_agency = pd.read_csv(filename_2, header=0,names=cols_2)\n",
    "gp = pd.merge(gp_original, gp_parent_agency, on='Agency')"
   ]
  },
  {
   "cell_type": "markdown",
   "metadata": {},
   "source": [
    "# Count Vectorization"
   ]
  },
  {
   "cell_type": "code",
   "execution_count": null,
   "metadata": {
    "collapsed": true
   },
   "outputs": [],
   "source": [
    "from sklearn.feature_extraction.text import CountVectorizer\n",
    "\n",
    "vectorizer = CountVectorizer(ngram_range=(1,2))\n",
    "\n",
    "# Create a vector where each row is bag-of-words for a single quote\n",
    "X = vectorizer.fit_transform(.quote) "
   ]
  }
 ],
 "metadata": {
  "anaconda-cloud": {},
  "kernelspec": {
   "display_name": "Python [conda root]",
   "language": "python",
   "name": "conda-root-py"
  },
  "language_info": {
   "codemirror_mode": {
    "name": "ipython",
    "version": 2
   },
   "file_extension": ".py",
   "mimetype": "text/x-python",
   "name": "python",
   "nbconvert_exporter": "python",
   "pygments_lexer": "ipython2",
   "version": "2.7.12"
  }
 },
 "nbformat": 4,
 "nbformat_minor": 1
}
